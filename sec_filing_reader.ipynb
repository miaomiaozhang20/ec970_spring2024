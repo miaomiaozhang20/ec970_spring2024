{
  "cells": [
    {
      "cell_type": "markdown",
      "metadata": {
        "id": "view-in-github",
        "colab_type": "text"
      },
      "source": [
        "<a href=\"https://colab.research.google.com/github/miaomiaozhang20/ec970_spring2024/blob/main/sec_filing_reader.ipynb\" target=\"_parent\"><img src=\"https://colab.research.google.com/assets/colab-badge.svg\" alt=\"Open In Colab\"/></a>"
      ]
    },
    {
      "cell_type": "code",
      "execution_count": null,
      "metadata": {
        "id": "PL3cB_KFP_PC"
      },
      "outputs": [],
      "source": [
        "import getpass\n",
        "import os\n",
        "\n",
        "# Set your OpenAI API key\n",
        "os.environ[\"OPENAI_API_KEY\"] = getpass.getpass()"
      ]
    },
    {
      "cell_type": "code",
      "execution_count": null,
      "metadata": {
        "id": "3ZY3GNT4PCA9"
      },
      "outputs": [],
      "source": [
        "!pip install -U -q langchain openai chromadb unstructured==0.12.5 instructor tiktoken"
      ]
    },
    {
      "cell_type": "markdown",
      "metadata": {
        "id": "_AzT4E1GNRze"
      },
      "source": [
        "# Download 10-K from SEC"
      ]
    },
    {
      "cell_type": "code",
      "execution_count": null,
      "metadata": {
        "id": "Uq07bTnztiI1"
      },
      "outputs": [],
      "source": [
        "from langchain_community.document_loaders import UnstructuredURLLoader\n",
        "\n",
        "url = \"https://www.sec.gov/Archives/edgar/data/1559720/000155972024000006/abnb-20231231.htm\"\n",
        "loader = UnstructuredURLLoader(urls=[url], headers={'User-Agent': 'your-org your@org.com'})\n",
        "documents = loader.load()"
      ]
    },
    {
      "cell_type": "markdown",
      "metadata": {
        "id": "1YnN8QbANVyM"
      },
      "source": [
        "# Chunk and store 10-K in vector DB"
      ]
    },
    {
      "cell_type": "code",
      "execution_count": null,
      "metadata": {
        "id": "Sm9ShQJZAc6J"
      },
      "outputs": [],
      "source": [
        "from langchain.vectorstores import Chroma\n",
        "from langchain.embeddings import OpenAIEmbeddings\n",
        "from langchain.text_splitter import TokenTextSplitter\n",
        "\n",
        "# Naively chunk the SEC filing by tokens\n",
        "token_splitter = TokenTextSplitter(chunk_size=512, chunk_overlap=20)\n",
        "docs = token_splitter.split_documents(documents)"
      ]
    },
    {
      "cell_type": "code",
      "execution_count": null,
      "metadata": {
        "id": "kgoOSs6DAmuP"
      },
      "outputs": [],
      "source": [
        "# Save the chunked docs in vector DB\n",
        "vectorstore = Chroma.from_documents(docs, OpenAIEmbeddings(model=\"text-embedding-3-large\"))"
      ]
    },
    {
      "cell_type": "markdown",
      "metadata": {
        "id": "6rhckgERqw_L"
      },
      "source": [
        "# Download Mistral-7B from HuggingFace"
      ]
    },
    {
      "cell_type": "code",
      "execution_count": null,
      "metadata": {
        "id": "Ezv6yNvEeXmN"
      },
      "outputs": [],
      "source": [
        "!pip install -U -q llama-cpp-python huggingface-hub"
      ]
    },
    {
      "cell_type": "code",
      "execution_count": null,
      "metadata": {
        "id": "JmIEJ4Bniotu"
      },
      "outputs": [],
      "source": [
        "import llama_cpp\n",
        "from llama_cpp import Llama\n",
        "from llama_cpp.llama_speculative import LlamaPromptLookupDecoding\n",
        "\n",
        "import instructor\n",
        "\n",
        "from pydantic import BaseModel\n",
        "from typing import List\n",
        "from rich.console import Console\n",
        "from huggingface_hub import hf_hub_download\n",
        "\n",
        "mistral_path = \"TheBloke/Mistral-7B-Instruct-v0.2-GGUF\"\n",
        "\n",
        "mistral_q4_basename = \"mistral-7b-instruct-v0.2.Q4_K_M.gguf\"\n",
        "\n",
        "model_path = hf_hub_download(repo_id=mistral_path, filename=mistral_q4_basename)\n",
        "\n",
        "llm = Llama(\n",
        "    model_path=model_path,\n",
        "    n_gpu_layers=--1, # The number of layers to put on the GPU. The rest will be on the CPU. If you don't know how many layers there are, you can use -1 to move all\n",
        "    n_batch = 2048, # Should be between 1 and n_ctx, consider the amount of VRAM in your GPU.\n",
        "    n_ctx=2048,\n",
        "    logits_all=False,\n",
        ")\n",
        "llm.verbose = False"
      ]
    },
    {
      "cell_type": "markdown",
      "metadata": {
        "id": "1w9_dHFECwos"
      },
      "source": [
        "# Extract income statements from 10-K"
      ]
    },
    {
      "cell_type": "code",
      "execution_count": null,
      "metadata": {
        "id": "F8Opn4FIQcB8"
      },
      "outputs": [],
      "source": [
        "import instructor\n",
        "from openai import OpenAI\n",
        "from pydantic import BaseModel\n",
        "from pydantic import Field\n",
        "from enum import Enum\n",
        "from typing import Optional, Union, List\n",
        "\n",
        "class UnitSuffix(str, Enum):\n",
        "    billion = 'Billion'\n",
        "    million = 'Million'\n",
        "    thousand = 'Thousand'\n",
        "    unknown = ''\n",
        "\n",
        "class FiscalPeriod(str, Enum):\n",
        "    fy_2023 = 'FY2023'\n",
        "    fy_2022 = 'FY2022'\n",
        "    fy_2021 = 'FY2021'\n",
        "    fy_2020 = 'FY2020'\n",
        "    unknown = ''\n",
        "\n",
        "# Define our income statement\n",
        "class IncomeStatement(BaseModel):\n",
        "  period: Optional[FiscalPeriod]\n",
        "\n",
        "  revenue: Union[float, str] = Field(description=\"Revenue\")\n",
        "  revenue_unit: Optional[UnitSuffix]\n",
        "\n",
        "  cost_of_revenue: Union[float, str] = Field(description=\"Cost of revenue\")\n",
        "  cost_of_revenue_unit: Optional[UnitSuffix]\n",
        "\n",
        "  income_from_operations: Union[float, str] = Field(description=\"Income from operations\")\n",
        "  income_from_operations_unit: Optional[UnitSuffix]\n",
        "\n",
        "  operations_and_support: Union[float, str] = Field(description=\"Operations and support\")\n",
        "  operations_and_support_unit: Optional[UnitSuffix]\n",
        "\n",
        "  product_development: Union[float, str] = Field(description=\"Product development\")\n",
        "  product_development_unit: Optional[UnitSuffix]\n",
        "\n",
        "  sales_and_marketing: Union[float, str] = Field(description=\"Sales and marketing\")\n",
        "  sales_and_marketing_unit: Optional[UnitSuffix]\n",
        "\n",
        "  general_and_administrative: Union[float, str] = Field(description=\"General and administrative\")\n",
        "  general_and_administrative_unit: Optional[UnitSuffix]\n",
        "\n",
        "  interest_income: Union[float, str] = Field(description=\"Interest income\")\n",
        "  interest_income_unit: Optional[UnitSuffix]\n",
        "\n",
        "  interest_expense: Union[float, str] = Field(description=\"Interest expense\")\n",
        "  interest_expense_unit: Optional[UnitSuffix]\n",
        "\n",
        "  other_income: Union[float, str] = Field(description=\"Other income\")\n",
        "  other_income_unit: Optional[UnitSuffix]\n",
        "\n",
        "  net_income: Union[float, str] = Field(description=\"Net income\")\n",
        "  net_income_unit: Optional[UnitSuffix]\n",
        "\n",
        "class IncomeStatements(BaseModel):\n",
        "  income_statements: List[IncomeStatement]"
      ]
    },
    {
      "cell_type": "code",
      "execution_count": null,
      "metadata": {
        "id": "mtyucrp2FGbb"
      },
      "outputs": [],
      "source": [
        "query = \"Consolidated Statements of Operations (in millions)\"\n",
        "# Get documents from the vector DB\n",
        "k = 1\n",
        "top_k_docs = vectorstore.similarity_search(query, k)\n",
        "context = \"\\n\".join([doc.page_content for doc in top_k_docs])"
      ]
    },
    {
      "cell_type": "code",
      "execution_count": null,
      "metadata": {
        "id": "ZrhBRaPGhw6-",
        "colab": {
          "base_uri": "https://localhost:8080/"
        },
        "outputId": "262ffab6-108d-493f-fed2-304a99aa0f68"
      },
      "outputs": [
        {
          "output_type": "stream",
          "name": "stdout",
          "text": [
            "Took 202.3725185394287 seconds to complete!\n",
            "{\n",
            "  \"income_statements\": [\n",
            "    {\n",
            "      \"period\": \"FY2021\",\n",
            "      \"revenue\": 5992.0,\n",
            "      \"revenue_unit\": \"Million\",\n",
            "      \"cost_of_revenue\": 1156.0,\n",
            "      \"cost_of_revenue_unit\": \"Million\",\n",
            "      \"income_from_operations\": 429.0,\n",
            "      \"income_from_operations_unit\": \"Million\",\n",
            "      \"operations_and_support\": 847.0,\n",
            "      \"operations_and_support_unit\": \"Million\",\n",
            "      \"product_development\": 1425.0,\n",
            "      \"product_development_unit\": \"Million\",\n",
            "      \"sales_and_marketing\": 1186.0,\n",
            "      \"sales_and_marketing_unit\": \"Million\",\n",
            "      \"general_and_administrative\": 836.0,\n",
            "      \"general_and_administrative_unit\": \"Million\",\n",
            "      \"interest_income\": 13.0,\n",
            "      \"interest_income_unit\": \"Million\",\n",
            "      \"interest_expense\": -438.0,\n",
            "      \"interest_expense_unit\": \"Million\",\n",
            "      \"other_income\": -304.0,\n",
            "      \"other_income_unit\": \"Million\",\n",
            "      \"net_income\": -352.0,\n",
            "      \"net_income_unit\": \"Million\"\n",
            "    },\n",
            "    {\n",
            "      \"period\": \"FY2022\",\n",
            "      \"revenue\": 8399.0,\n",
            "      \"revenue_unit\": \"Million\",\n",
            "      \"cost_of_revenue\": 1499.0,\n",
            "      \"cost_of_revenue_unit\": \"Million\",\n",
            "      \"income_from_operations\": 1802.0,\n",
            "      \"income_from_operations_unit\": \"Million\",\n",
            "      \"operations_and_support\": 1041.0,\n",
            "      \"operations_and_support_unit\": \"Million\",\n",
            "      \"product_development\": 1502.0,\n",
            "      \"product_development_unit\": \"Million\",\n",
            "      \"sales_and_marketing\": 1516.0,\n",
            "      \"sales_and_marketing_unit\": \"Million\",\n",
            "      \"general_and_administrative\": 950.0,\n",
            "      \"general_and_administrative_unit\": \"Million\",\n",
            "      \"interest_income\": 186.0,\n",
            "      \"interest_income_unit\": \"Million\",\n",
            "      \"interest_expense\": 24.0,\n",
            "      \"interest_expense_unit\": \"Million\",\n",
            "      \"other_income\": 25.0,\n",
            "      \"other_income_unit\": \"Million\",\n",
            "      \"net_income\": 1893.0,\n",
            "      \"net_income_unit\": \"Million\"\n",
            "    },\n",
            "    {\n",
            "      \"period\": \"FY2023\",\n",
            "      \"revenue\": 9917.0,\n",
            "      \"revenue_unit\": \"Million\",\n",
            "      \"cost_of_revenue\": 1703.0,\n",
            "      \"cost_of_revenue_unit\": \"Million\",\n",
            "      \"income_from_operations\": 1518.0,\n",
            "      \"income_from_operations_unit\": \"Million\",\n",
            "      \"operations_and_support\": 1186.0,\n",
            "      \"operations_and_support_unit\": \"Million\",\n",
            "      \"product_development\": 1722.0,\n",
            "      \"product_development_unit\": \"Million\",\n",
            "      \"sales_and_marketing\": 1763.0,\n",
            "      \"sales_and_marketing_unit\": \"Million\",\n",
            "      \"general_and_administrative\": 2025.0,\n",
            "      \"general_and_administrative_unit\": \"Million\",\n",
            "      \"interest_income\": 721.0,\n",
            "      \"interest_income_unit\": \"Million\",\n",
            "      \"interest_expense\": 83.0,\n",
            "      \"interest_expense_unit\": \"Million\",\n",
            "      \"other_income\": 54.0,\n",
            "      \"other_income_unit\": \"Million\",\n",
            "      \"net_income\": 4792.0,\n",
            "      \"net_income_unit\": \"Million\"\n",
            "    }\n",
            "  ]\n",
            "}\n"
          ]
        }
      ],
      "source": [
        "import time\n",
        "\n",
        "create = instructor.patch(\n",
        "    create=llm.create_chat_completion_openai_v1,\n",
        "    mode=instructor.Mode.JSON_SCHEMA,\n",
        ")\n",
        "\n",
        "start = time.time()\n",
        "\n",
        "income_statements = create(\n",
        "    response_model=instructor.Partial[IncomeStatements],\n",
        "    messages=[\n",
        "        {\n",
        "            \"role\": \"user\",\n",
        "            \"content\": f\"Extract Airbnb's income statement from 2023, 2022, and 2021 from following context: {context}\",\n",
        "        },\n",
        "    ],\n",
        ")\n",
        "\n",
        "print(f\"Took {time.time() - start} seconds to complete!\")\n",
        "print(income_statements.model_dump_json(indent=2))"
      ]
    },
    {
      "cell_type": "markdown",
      "metadata": {
        "id": "1NBL7nLlnezZ"
      },
      "source": [
        "# Extract balance sheets from 10-K"
      ]
    },
    {
      "cell_type": "code",
      "execution_count": null,
      "metadata": {
        "id": "_z8asmgbnKcZ"
      },
      "outputs": [],
      "source": [
        "# Define Balance Sheet\n",
        "class BalanceSheet(BaseModel):\n",
        "  period: Optional[FiscalPeriod]\n",
        "\n",
        "  # Assets\n",
        "  cash_and_cash_equivalents: Union[float, str] = Field(description=\"Cash and cash equivalents\")\n",
        "  cash_and_cash_equivalents_unit: Optional[UnitSuffix]\n",
        "\n",
        "  short_term_investments: Union[float, str] = Field(description=\"Short-term investments\")\n",
        "  short_term_investments_unit: Optional[UnitSuffix]\n",
        "\n",
        "  total_current_assets: Union[float, str] = Field(description=\"Total current assets\")\n",
        "  total_current_assets_unit: Optional[UnitSuffix]\n",
        "\n",
        "  goodwill: Union[float, str] = Field(description=\"Goodwill\")\n",
        "  goodwill_unit: Optional[UnitSuffix]\n",
        "\n",
        "  total_assets: Union[float, str] = Field(description=\"Total assets\")\n",
        "  total_assets_unit: Optional[UnitSuffix]\n",
        "\n",
        "  # Liabilities\n",
        "  accrued_expenses: Union[float, str] = Field(description=\"Accrued expenses\")\n",
        "  accrued_expenses_unit: Optional[UnitSuffix]\n",
        "\n",
        "  funds_payable: Union[float, str] = Field(description=\"Funds payable\")\n",
        "  funds_payable_unit: Optional[UnitSuffix]\n",
        "\n",
        "  unearned_fees: Union[float, str] = Field(description=\"Unearned fees\")\n",
        "  unearned_fees_unit: Optional[UnitSuffix]\n",
        "\n",
        "  total_current_liabilities: Union[float, str] = Field(description=\"Total current liabilities\")\n",
        "  total_current_liabilities_unit: Optional[UnitSuffix]\n",
        "\n",
        "  long_term_debt: Union[float, str] = Field(description=\"Long-term debt\")\n",
        "  long_term_debt_unit: Optional[UnitSuffix]\n",
        "\n",
        "  operating_lease_liabilities: Union[float, str] = Field(description=\"Operating lease liabilities\")\n",
        "  operating_lease_liabilities_unit: Optional[UnitSuffix]\n",
        "\n",
        "  other_liabilities: Union[float, str] = Field(description=\"Other liabilities\")\n",
        "  other_liabilities_unit: Optional[UnitSuffix]\n",
        "\n",
        "  total_liabilities: Union[float, str] = Field(description=\"Total liabilities\")\n",
        "  total_liabilities_unit: Optional[UnitSuffix]\n",
        "\n",
        "  stockholders_equity: Union[float, str] = Field(description=\"Stockholders' equity\")\n",
        "  stockholders_equity_unit: Optional[UnitSuffix]\n",
        "\n",
        "class BalanceSheets(BaseModel):\n",
        "  balance_sheets: List[BalanceSheet]"
      ]
    },
    {
      "cell_type": "code",
      "execution_count": null,
      "metadata": {
        "id": "V17XDr6Jnezi"
      },
      "outputs": [],
      "source": [
        "query = \"Extract Consolidated Balance Sheets with total debt, current liabilities\"\n",
        "# Get documents from the vector DB\n",
        "k = 1\n",
        "top_k_docs = vectorstore.similarity_search(query, k)\n",
        "context = \"\\n\".join([doc.page_content for doc in top_k_docs])"
      ]
    },
    {
      "cell_type": "code",
      "execution_count": null,
      "metadata": {
        "id": "NGd1f4w9nezj",
        "colab": {
          "base_uri": "https://localhost:8080/"
        },
        "outputId": "eef1fada-4a1d-4450-f3fb-49334caf8811"
      },
      "outputs": [
        {
          "output_type": "stream",
          "name": "stdout",
          "text": [
            "Took 238.2173011302948 seconds to complete!\n",
            "{\n",
            "  \"balance_sheets\": [\n",
            "    {\n",
            "      \"period\": \"FY2021\",\n",
            "      \"cash_and_cash_equivalents\": 7378.0,\n",
            "      \"cash_and_cash_equivalents_unit\": null,\n",
            "      \"short_term_investments\": 2244.0,\n",
            "      \"short_term_investments_unit\": null,\n",
            "      \"total_current_assets\": 14861.0,\n",
            "      \"total_current_assets_unit\": null,\n",
            "      \"goodwill\": 684.0,\n",
            "      \"goodwill_unit\": null,\n",
            "      \"total_assets\": 16038.0,\n",
            "      \"total_assets_unit\": null,\n",
            "      \"accrued_expenses\": 2013.0,\n",
            "      \"accrued_expenses_unit\": null,\n",
            "      \"funds_payable\": 4783.0,\n",
            "      \"funds_payable_unit\": null,\n",
            "      \"unearned_fees\": 1182.0,\n",
            "      \"unearned_fees_unit\": null,\n",
            "      \"total_current_liabilities\": 7978.0,\n",
            "      \"total_current_liabilities_unit\": null,\n",
            "      \"long_term_debt\": 1987.0,\n",
            "      \"long_term_debt_unit\": null,\n",
            "      \"operating_lease_liabilities\": 295.0,\n",
            "      \"operating_lease_liabilities_unit\": null,\n",
            "      \"other_liabilities\": 218.0,\n",
            "      \"other_liabilities_unit\": null,\n",
            "      \"total_liabilities\": 10478.0,\n",
            "      \"total_liabilities_unit\": null,\n",
            "      \"stockholders_equity\": null,\n",
            "      \"stockholders_equity_unit\": null\n",
            "    },\n",
            "    {\n",
            "      \"period\": \"FY2022\",\n",
            "      \"cash_and_cash_equivalents\": 6874.0,\n",
            "      \"cash_and_cash_equivalents_unit\": null,\n",
            "      \"short_term_investments\": 3197.0,\n",
            "      \"short_term_investments_unit\": null,\n",
            "      \"total_current_assets\": 16509.0,\n",
            "      \"total_current_assets_unit\": null,\n",
            "      \"goodwill\": 792.0,\n",
            "      \"goodwill_unit\": null,\n",
            "      \"total_assets\": 20645.0,\n",
            "      \"total_assets_unit\": null,\n",
            "      \"accrued_expenses\": 2654.0,\n",
            "      \"accrued_expenses_unit\": null,\n",
            "      \"funds_payable\": 5869.0,\n",
            "      \"funds_payable_unit\": null,\n",
            "      \"unearned_fees\": 1427.0,\n",
            "      \"unearned_fees_unit\": null,\n",
            "      \"total_current_liabilities\": 9950.0,\n",
            "      \"total_current_liabilities_unit\": null,\n",
            "      \"long_term_debt\": 1991.0,\n",
            "      \"long_term_debt_unit\": null,\n",
            "      \"operating_lease_liabilities\": 252.0,\n",
            "      \"operating_lease_liabilities_unit\": null,\n",
            "      \"other_liabilities\": 287.0,\n",
            "      \"other_liabilities_unit\": null,\n",
            "      \"total_liabilities\": 12480.0,\n",
            "      \"total_liabilities_unit\": null,\n",
            "      \"stockholders_equity\": null,\n",
            "      \"stockholders_equity_unit\": null\n",
            "    },\n",
            "    {\n",
            "      \"period\": \"FY2023\",\n",
            "      \"cash_and_cash_equivalents\": 569.0,\n",
            "      \"cash_and_cash_equivalents_unit\": null,\n",
            "      \"short_term_investments\": 2507.0,\n",
            "      \"short_term_investments_unit\": null,\n",
            "      \"total_current_assets\": 16509.0,\n",
            "      \"total_current_assets_unit\": null,\n",
            "      \"goodwill\": 792.0,\n",
            "      \"goodwill_unit\": null,\n",
            "      \"total_assets\": 20645.0,\n",
            "      \"total_assets_unit\": null,\n",
            "      \"accrued_expenses\": 1427.0,\n",
            "      \"accrued_expenses_unit\": null,\n",
            "      \"funds_payable\": 5869.0,\n",
            "      \"funds_payable_unit\": null,\n",
            "      \"unearned_fees\": 1427.0,\n",
            "      \"unearned_fees_unit\": null,\n",
            "      \"total_current_liabilities\": 9950.0,\n",
            "      \"total_current_liabilities_unit\": null,\n",
            "      \"long_term_debt\": 1991.0,\n",
            "      \"long_term_debt_unit\": null,\n",
            "      \"operating_lease_liabilities\": 252.0,\n",
            "      \"operating_lease_liabilities_unit\": null,\n",
            "      \"other_liabilities\": 287.0,\n",
            "      \"other_liabilities_unit\": null,\n",
            "      \"total_liabilities\": 12480.0,\n",
            "      \"total_liabilities_unit\": null,\n",
            "      \"stockholders_equity\": null,\n",
            "      \"stockholders_equity_unit\": null\n",
            "    }\n",
            "  ]\n",
            "}\n"
          ]
        }
      ],
      "source": [
        "import time\n",
        "\n",
        "create = instructor.patch(\n",
        "    create=llm.create_chat_completion_openai_v1,\n",
        "    mode=instructor.Mode.JSON_SCHEMA,\n",
        ")\n",
        "\n",
        "start = time.time()\n",
        "\n",
        "balance_sheets = create(\n",
        "    response_model=instructor.Partial[BalanceSheets],\n",
        "    messages=[\n",
        "        {\n",
        "            \"role\": \"user\",\n",
        "            \"content\": f\"Extract Airbnb's balance sheet from 2023, 2022, and 2021 from following context: {context}\",\n",
        "        },\n",
        "    ],\n",
        ")\n",
        "print(f\"Took {time.time() - start} seconds to complete!\")\n",
        "print(balance_sheets.model_dump_json(indent=2))"
      ]
    },
    {
      "cell_type": "markdown",
      "metadata": {
        "id": "tQmaYq1NpQUd"
      },
      "source": [
        "# Extract cash flow statements from 10-K"
      ]
    },
    {
      "cell_type": "code",
      "execution_count": null,
      "metadata": {
        "id": "6ktk3hqSpQUd"
      },
      "outputs": [],
      "source": [
        "# Define Cash Flow Statement\n",
        "class CashFlowStatement(BaseModel):\n",
        "  period: Optional[FiscalPeriod]\n",
        "\n",
        "  net_income: Union[float, str] = Field(description=\"Net income\")\n",
        "  net_income_unit: Optional[UnitSuffix]\n",
        "\n",
        "  depreciation_and_amortization: Union[float, str] = Field(description=\"Depreciation and amortization\")\n",
        "  depreciation_and_amortization_unit: Optional[UnitSuffix]\n",
        "\n",
        "  stock_based_compensation: Union[float, str] = Field(description=\"Stock-based compensation\")\n",
        "  stock_based_compensation_unit: Optional[UnitSuffix]\n",
        "\n",
        "  net_cash_from_operating_activities: Union[float, str] = Field(description=\"Net cash from operating activities\")\n",
        "  net_cash_from_operating_activities_unit: Optional[UnitSuffix]\n",
        "\n",
        "  net_cash_from_investing_activities: Union[float, str] = Field(description=\"Net cash from investing activities\")\n",
        "  net_cash_from_investing_activities_unit: Optional[UnitSuffix]\n",
        "\n",
        "  net_cash_from_financing_activities: Union[float, str] = Field(description=\"Net cash from financing activities\")\n",
        "  net_cash_from_financing_activities_unit: Optional[UnitSuffix]\n",
        "\n",
        "class CashFlowStatements(BaseModel):\n",
        "  cash_flow_statements: List[CashFlowStatement]"
      ]
    },
    {
      "cell_type": "code",
      "execution_count": null,
      "metadata": {
        "id": "fYzN65xSpQUd"
      },
      "outputs": [],
      "source": [
        "query = \"Airbnb, Inc.\\nConsolidated Statements of Cash Flows\\n(in millions)\"\n",
        "# Get documents from the vector DB\n",
        "k = 1\n",
        "top_k_docs = vectorstore.similarity_search(query, k)\n",
        "context = \"\\n\".join([doc.page_content for doc in top_k_docs])"
      ]
    },
    {
      "cell_type": "code",
      "execution_count": null,
      "metadata": {
        "id": "OQOqciK9pQUe"
      },
      "outputs": [],
      "source": [
        "import time\n",
        "\n",
        "create = instructor.patch(\n",
        "    create=llm.create_chat_completion_openai_v1,\n",
        "    mode=instructor.Mode.JSON_SCHEMA,\n",
        ")\n",
        "\n",
        "start = time.time()\n",
        "\n",
        "cash_flow_statements = create(\n",
        "    response_model=instructor.Partial[CashFlowStatements],\n",
        "    messages=[\n",
        "        {\n",
        "            \"role\": \"user\",\n",
        "            \"content\": f\"Extract Airbnb's cash flow statement from 2023, 2022, and 2021 from following context: {context}\",\n",
        "        },\n",
        "    ],\n",
        ")\n",
        "print(f\"Took {time.time() - start} seconds to complete!\")\n",
        "print(cash_flow_statements.model_dump_json(indent=2))"
      ]
    }
  ],
  "metadata": {
    "accelerator": "GPU",
    "colab": {
      "gpuType": "A100",
      "machine_shape": "hm",
      "provenance": [],
      "include_colab_link": true
    },
    "kernelspec": {
      "display_name": "Python 3",
      "name": "python3"
    },
    "language_info": {
      "name": "python"
    }
  },
  "nbformat": 4,
  "nbformat_minor": 0
}